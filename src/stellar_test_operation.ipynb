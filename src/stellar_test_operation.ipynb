{
 "cells": [
  {
   "cell_type": "code",
   "execution_count": 4,
   "metadata": {},
   "outputs": [],
   "source": [
    "    from stellar_base.keypair import Keypair\n",
    "    from stellar_base.asset import Asset\n",
    "    from stellar_base.operation import Payment\n",
    "    from stellar_base.transaction import Transaction\n",
    "    from stellar_base.transaction_envelope import TransactionEnvelope as Te\n",
    "    from stellar_base.memo import TextMemo\n",
    "    from stellar_base.horizon import horizon_testnet, horizon_livenet\n",
    "    \n",
    "    alice_seed = 'SAZJ3EDATROKTNNN4WZBZPRC34AN5WR43VEHAFKT5D66UEZTKDNKUHOK'\n",
    "    bob_address = 'GBTQMUC6AUUD7LP6PCJGXFWIYK32LT24XPAGTMUMIEF5I3CANBBVAUA2'\n",
    "    CNY_ISSUER = 'GDVDKQFP665JAO7A2LSHNLQIUNYNAAIGJ6FYJVMG4DT3YJQQJSRBLQDG'\n",
    "    amount = '100'\n",
    "    \n",
    "    Alice = Keypair.from_seed(alice_seed)\n",
    "    horizon = horizon_testnet() # horizon = horizon_livenet() for LIVENET\n",
    "    \n",
    "    asset = Asset('CNY', CNY_ISSUER) \n",
    "    # create op \n",
    "    op = Payment({\n",
    "        # 'source' : Alice.address().decode(),\n",
    "        'destination': bob_address,\n",
    "        'asset': asset,\n",
    "        'amount': amount\n",
    "    })\n",
    "    # create a memo\n",
    "    msg = TextMemo('Buy yourself a beer !')\n",
    "    \n",
    "    sequence = horizon.account(Alice.address().decode('utf-8')).get('sequence')\n",
    "    \n",
    "    # construct Tx\n",
    "    tx = Transaction(\n",
    "        source=Alice.address().decode(),\n",
    "        opts={\n",
    "            'sequence': sequence,\n",
    "            # 'timeBounds': [],\n",
    "            'memo': msg,\n",
    "            # 'fee': 100,\n",
    "            'operations': [\n",
    "                op,\n",
    "            ],\n",
    "        },\n",
    "    )\n",
    "    \n",
    "    \n",
    "    # build envelope\n",
    "    envelope = Te(tx=tx, opts={\"network_id\": \"TESTNET\"}) # envelope = Te(tx=tx, opts={\"network_id\": \"PUBLIC\"}) for LIVENET\n",
    "    # sign \n",
    "    envelope.sign(Alice)\n",
    "    # submit\n",
    "    xdr = envelope.xdr()\n",
    "    response=horizon.submit(xdr)"
   ]
  },
  {
   "cell_type": "code",
   "execution_count": 6,
   "metadata": {},
   "outputs": [
    {
     "data": {
      "text/plain": [
       "{'detail': 'The transaction failed when submitted to the stellar network. The `extras.result_codes` field on this response contains further details.  Descriptions of each code can be found at: https://www.stellar.org/developers/learn/concepts/list-of-operations.html',\n",
       " 'extras': {'envelope_xdr': 'AAAAAKz4N91L2xSNuJURDEON/mMoLk0UskIIyA+SRJluVG3NAAAAZAAVvagAAAAMAAAAAAAAAAEAAAAVQnV5IHlvdXJzZWxmIGEgYmVlciAhAAAAAAAAAQAAAAAAAAABAAAAAGcGUF4FKD+t/niSa5bIwrelz1y7wGmyjEEL1GxAaENQAAAAAUNOWQAAAAAA6jVAr/e6kDvg0uR2rgijcNABBk+LhNWG4Oe8JhBMohUAAAAAO5rKAAAAAAAAAAABblRtzQAAAEDH35yDgLNGzeFMWo9oCDNSCxWmbByA65JlHaafdkCheJ2GwSAxsi2AD24trnHg6uDc3sHcerCsObcT3+wwJIUG',\n",
       "  'result_codes': {'operations': ['op_no_trust'], 'transaction': 'tx_failed'},\n",
       "  'result_xdr': 'AAAAAAAAAGT/////AAAAAQAAAAAAAAAB////+gAAAAA='},\n",
       " 'instance': 'horizon-testnet-001/6VNfUsVQkZ-3613742',\n",
       " 'status': 400,\n",
       " 'title': 'Transaction Failed',\n",
       " 'type': 'https://stellar.org/horizon-errors/transaction_failed'}"
      ]
     },
     "execution_count": 6,
     "metadata": {},
     "output_type": "execute_result"
    }
   ],
   "source": [
    "response"
   ]
  },
  {
   "cell_type": "code",
   "execution_count": null,
   "metadata": {
    "collapsed": true
   },
   "outputs": [],
   "source": []
  }
 ],
 "metadata": {
  "kernelspec": {
   "display_name": "Python 3",
   "language": "python",
   "name": "python3"
  },
  "language_info": {
   "codemirror_mode": {
    "name": "ipython",
    "version": 3
   },
   "file_extension": ".py",
   "mimetype": "text/x-python",
   "name": "python",
   "nbconvert_exporter": "python",
   "pygments_lexer": "ipython3",
   "version": "3.6.3"
  }
 },
 "nbformat": 4,
 "nbformat_minor": 2
}
