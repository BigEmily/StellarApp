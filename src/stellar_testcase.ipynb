{
 "cells": [
  {
   "cell_type": "markdown",
   "metadata": {},
   "source": [
    "# Stellar Test Cases"
   ]
  },
  {
   "cell_type": "markdown",
   "metadata": {},
   "source": [
    "## 1. Create a Stellar key pair"
   ]
  },
  {
   "cell_type": "code",
   "execution_count": 1,
   "metadata": {
    "collapsed": true
   },
   "outputs": [],
   "source": [
    "from stellar_base.keypair import Keypair\n",
    "kp = Keypair.random()"
   ]
  },
  {
   "cell_type": "markdown",
   "metadata": {},
   "source": [
    "The public key is also your account address. If someone needs to send you a transaction, you should share with them this key. The seed is your secret. For safety, please keep it local and never send it through the Internet."
   ]
  },
  {
   "cell_type": "code",
   "execution_count": 11,
   "metadata": {},
   "outputs": [],
   "source": [
    "publickey = kp.address().decode()\n",
    "seed = kp.seed().decode()"
   ]
  },
  {
   "cell_type": "code",
   "execution_count": 26,
   "metadata": {},
   "outputs": [
    {
     "data": {
      "text/plain": [
       "'GBTQMUC6AUUD7LP6PCJGXFWIYK32LT24XPAGTMUMIEF5I3CANBBVAUA2'"
      ]
     },
     "execution_count": 26,
     "metadata": {},
     "output_type": "execute_result"
    }
   ],
   "source": [
    "publickey"
   ]
  },
  {
   "cell_type": "markdown",
   "metadata": {},
   "source": [
    "## 2.Create Account"
   ]
  },
  {
   "cell_type": "code",
   "execution_count": 13,
   "metadata": {
    "collapsed": true
   },
   "outputs": [],
   "source": [
    "import requests\n",
    "\n",
    "r=requests.get('https://horizon-testnet.stellar.org/friendbot?addr='+publickey)"
   ]
  },
  {
   "cell_type": "markdown",
   "metadata": {},
   "source": [
    "## 3. Check account"
   ]
  },
  {
   "cell_type": "code",
   "execution_count": 15,
   "metadata": {
    "collapsed": true
   },
   "outputs": [],
   "source": [
    "from stellar_base.address import Address\n",
    "    \n",
    "address = Address(address=publickey) # address = Address(address=publickey,network='public') for livenet\n",
    "address.get() # get the updated information"
   ]
  },
  {
   "cell_type": "code",
   "execution_count": 17,
   "metadata": {},
   "outputs": [
    {
     "data": {
      "text/plain": [
       "[{'asset_type': 'native', 'balance': '10000.0000000'}]"
      ]
     },
     "execution_count": 17,
     "metadata": {},
     "output_type": "execute_result"
    }
   ],
   "source": [
    "address.balances"
   ]
  },
  {
   "cell_type": "code",
   "execution_count": 18,
   "metadata": {},
   "outputs": [
    {
     "data": {
      "text/plain": [
       "'28645859906289664'"
      ]
     },
     "execution_count": 18,
     "metadata": {},
     "output_type": "execute_result"
    }
   ],
   "source": [
    "address.sequence"
   ]
  },
  {
   "cell_type": "code",
   "execution_count": 19,
   "metadata": {},
   "outputs": [
    {
     "data": {
      "text/plain": [
       "{'auth_required': False, 'auth_revocable': False}"
      ]
     },
     "execution_count": 19,
     "metadata": {},
     "output_type": "execute_result"
    }
   ],
   "source": [
    "address.flags"
   ]
  },
  {
   "cell_type": "code",
   "execution_count": 20,
   "metadata": {},
   "outputs": [
    {
     "data": {
      "text/plain": [
       "[{'key': 'GBTQMUC6AUUD7LP6PCJGXFWIYK32LT24XPAGTMUMIEF5I3CANBBVAUA2',\n",
       "  'public_key': 'GBTQMUC6AUUD7LP6PCJGXFWIYK32LT24XPAGTMUMIEF5I3CANBBVAUA2',\n",
       "  'type': 'ed25519_public_key',\n",
       "  'weight': 1}]"
      ]
     },
     "execution_count": 20,
     "metadata": {},
     "output_type": "execute_result"
    }
   ],
   "source": [
    "address.signers"
   ]
  },
  {
   "cell_type": "code",
   "execution_count": 21,
   "metadata": {},
   "outputs": [
    {
     "data": {
      "text/plain": [
       "{}"
      ]
     },
     "execution_count": 21,
     "metadata": {},
     "output_type": "execute_result"
    }
   ],
   "source": [
    "address.data"
   ]
  },
  {
   "cell_type": "code",
   "execution_count": 22,
   "metadata": {},
   "outputs": [
    {
     "data": {
      "text/plain": [
       "{'_embedded': {'records': [{'_links': {'effects': {'href': 'https://horizon-testnet.stellar.org/operations/28645859906297857/effects'},\n",
       "     'precedes': {'href': 'https://horizon-testnet.stellar.org/effects?order=asc&cursor=28645859906297857'},\n",
       "     'self': {'href': 'https://horizon-testnet.stellar.org/operations/28645859906297857'},\n",
       "     'succeeds': {'href': 'https://horizon-testnet.stellar.org/effects?order=desc&cursor=28645859906297857'},\n",
       "     'transaction': {'href': 'https://horizon-testnet.stellar.org/transactions/4764f5d79353b095a6fbe9ac2bf1f9d6ab2a78d0effd7c035e803b0294fd66ba'}},\n",
       "    'account': 'GBTQMUC6AUUD7LP6PCJGXFWIYK32LT24XPAGTMUMIEF5I3CANBBVAUA2',\n",
       "    'created_at': '2018-01-14T16:20:51Z',\n",
       "    'funder': 'GBS43BF24ENNS3KPACUZVKK2VYPOZVBQO2CISGZ777RYGOPYC2FT6S3K',\n",
       "    'id': '28645859906297857',\n",
       "    'paging_token': '28645859906297857',\n",
       "    'source_account': 'GBS43BF24ENNS3KPACUZVKK2VYPOZVBQO2CISGZ777RYGOPYC2FT6S3K',\n",
       "    'starting_balance': '10000.0000000',\n",
       "    'transaction_hash': '4764f5d79353b095a6fbe9ac2bf1f9d6ab2a78d0effd7c035e803b0294fd66ba',\n",
       "    'type': 'create_account',\n",
       "    'type_i': 0}]},\n",
       " '_links': {'next': {'href': 'https://horizon-testnet.stellar.org/accounts/GBTQMUC6AUUD7LP6PCJGXFWIYK32LT24XPAGTMUMIEF5I3CANBBVAUA2/payments?cursor=28645859906297857&limit=10&order=asc'},\n",
       "  'prev': {'href': 'https://horizon-testnet.stellar.org/accounts/GBTQMUC6AUUD7LP6PCJGXFWIYK32LT24XPAGTMUMIEF5I3CANBBVAUA2/payments?cursor=28645859906297857&limit=10&order=desc'},\n",
       "  'self': {'href': 'https://horizon-testnet.stellar.org/accounts/GBTQMUC6AUUD7LP6PCJGXFWIYK32LT24XPAGTMUMIEF5I3CANBBVAUA2/payments?cursor=&limit=10&order=asc'}}}"
      ]
     },
     "execution_count": 22,
     "metadata": {},
     "output_type": "execute_result"
    }
   ],
   "source": [
    "address.payments()"
   ]
  },
  {
   "cell_type": "markdown",
   "metadata": {},
   "source": [
    "## 4. Building transaction"
   ]
  },
  {
   "cell_type": "code",
   "execution_count": 25,
   "metadata": {
    "collapsed": true
   },
   "outputs": [],
   "source": [
    "from stellar_base.builder import Builder\n",
    "\n",
    "builder = Builder(secret=seed) "
   ]
  },
  {
   "cell_type": "code",
   "execution_count": null,
   "metadata": {
    "collapsed": true
   },
   "outputs": [],
   "source": [
    "CNY_ISSUER = 'GDVDKQFP665JAO7A2LSHNLQIUNYNAAIGJ6FYJVMG4DT3YJQQJSRBLQDG'# Just a Stellar address which issues asset CNY\n",
    "builder.append_payment_op(bob_address, '100', 'CNY', CNY_ISSUER)"
   ]
  },
  {
   "cell_type": "code",
   "execution_count": null,
   "metadata": {
    "collapsed": true
   },
   "outputs": [],
   "source": [
    "builder.sign()\n",
    "builder.submit()"
   ]
  },
  {
   "cell_type": "code",
   "execution_count": null,
   "metadata": {
    "collapsed": true
   },
   "outputs": [],
   "source": [
    "Sometimes, we need to deal with multi-signature transactions. Especially when you get a xdr string (or transaction envelope xdr) from a friend or partner, which describes a multi-sig transaction. They may need you to sign on it too."
   ]
  }
 ],
 "metadata": {
  "kernelspec": {
   "display_name": "Python 3",
   "language": "python",
   "name": "python3"
  },
  "language_info": {
   "codemirror_mode": {
    "name": "ipython",
    "version": 3
   },
   "file_extension": ".py",
   "mimetype": "text/x-python",
   "name": "python",
   "nbconvert_exporter": "python",
   "pygments_lexer": "ipython3",
   "version": "3.6.3"
  }
 },
 "nbformat": 4,
 "nbformat_minor": 2
}
